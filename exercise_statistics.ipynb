{
 "cells": [
  {
   "cell_type": "code",
   "execution_count": 1,
   "metadata": {},
   "outputs": [],
   "source": [
    "import pandas as pd\n",
    "import numpy as np\n",
    "import matplotlib.pyplot as plt\n",
    "import seaborn as sns"
   ]
  },
  {
   "cell_type": "code",
   "execution_count": 2,
   "metadata": {},
   "outputs": [],
   "source": [
    "df_enem_2023_original = pd.read_json('./enem_2023.json')\n",
    "\n",
    "df_enem_2023 = df_enem_2023_original.dropna()\n",
    "df_enem_2023 = df_enem_2023.rename(columns={\"Linguagens\": \"Languages\", \"Ciências humanas\": \"Humanities\", \"Ciências da natureza\": \"Natural Sciences\", \"Matemática\": \"Mathematics\", \"Redação\": \"Essay\",\"Sexo\": \"Gender\"})\n",
    "df_enem_2023['Gender'] = df_enem_2023['Gender'].replace({'Homem': 'Man', 'Mulher': 'Woman'})"
   ]
  },
  {
   "cell_type": "code",
   "execution_count": 3,
   "metadata": {},
   "outputs": [
    {
     "data": {
      "text/html": [
       "<div>\n",
       "<style scoped>\n",
       "    .dataframe tbody tr th:only-of-type {\n",
       "        vertical-align: middle;\n",
       "    }\n",
       "\n",
       "    .dataframe tbody tr th {\n",
       "        vertical-align: top;\n",
       "    }\n",
       "\n",
       "    .dataframe thead th {\n",
       "        text-align: right;\n",
       "    }\n",
       "</style>\n",
       "<table border=\"1\" class=\"dataframe\">\n",
       "  <thead>\n",
       "    <tr style=\"text-align: right;\">\n",
       "      <th></th>\n",
       "      <th>Languages</th>\n",
       "      <th>Humanities</th>\n",
       "      <th>Natural Sciences</th>\n",
       "      <th>Mathematics</th>\n",
       "      <th>Essay</th>\n",
       "      <th>Gender</th>\n",
       "    </tr>\n",
       "  </thead>\n",
       "  <tbody>\n",
       "    <tr>\n",
       "      <th>0</th>\n",
       "      <td>585.669300</td>\n",
       "      <td>686.512178</td>\n",
       "      <td>390.482473</td>\n",
       "      <td>452.281333</td>\n",
       "      <td>546.371706</td>\n",
       "      <td>Man</td>\n",
       "    </tr>\n",
       "    <tr>\n",
       "      <th>2</th>\n",
       "      <td>622.732384</td>\n",
       "      <td>495.510719</td>\n",
       "      <td>443.183580</td>\n",
       "      <td>669.683401</td>\n",
       "      <td>684.515750</td>\n",
       "      <td>Man</td>\n",
       "    </tr>\n",
       "    <tr>\n",
       "      <th>3</th>\n",
       "      <td>350.164605</td>\n",
       "      <td>602.041588</td>\n",
       "      <td>413.979810</td>\n",
       "      <td>676.608952</td>\n",
       "      <td>671.237114</td>\n",
       "      <td>Man</td>\n",
       "    </tr>\n",
       "    <tr>\n",
       "      <th>4</th>\n",
       "      <td>384.093657</td>\n",
       "      <td>489.249140</td>\n",
       "      <td>609.758123</td>\n",
       "      <td>520.426698</td>\n",
       "      <td>744.375048</td>\n",
       "      <td>Man</td>\n",
       "    </tr>\n",
       "    <tr>\n",
       "      <th>5</th>\n",
       "      <td>616.043360</td>\n",
       "      <td>502.007005</td>\n",
       "      <td>497.777935</td>\n",
       "      <td>615.902547</td>\n",
       "      <td>507.365147</td>\n",
       "      <td>Man</td>\n",
       "    </tr>\n",
       "    <tr>\n",
       "      <th>6</th>\n",
       "      <td>511.897593</td>\n",
       "      <td>479.197660</td>\n",
       "      <td>469.023899</td>\n",
       "      <td>441.139103</td>\n",
       "      <td>541.979136</td>\n",
       "      <td>Woman</td>\n",
       "    </tr>\n",
       "    <tr>\n",
       "      <th>7</th>\n",
       "      <td>377.439818</td>\n",
       "      <td>663.489624</td>\n",
       "      <td>556.239031</td>\n",
       "      <td>517.215575</td>\n",
       "      <td>635.424649</td>\n",
       "      <td>Woman</td>\n",
       "    </tr>\n",
       "    <tr>\n",
       "      <th>11</th>\n",
       "      <td>617.509514</td>\n",
       "      <td>685.004513</td>\n",
       "      <td>450.104243</td>\n",
       "      <td>556.460006</td>\n",
       "      <td>758.966704</td>\n",
       "      <td>Woman</td>\n",
       "    </tr>\n",
       "    <tr>\n",
       "      <th>14</th>\n",
       "      <td>447.988956</td>\n",
       "      <td>525.059975</td>\n",
       "      <td>351.735507</td>\n",
       "      <td>658.211529</td>\n",
       "      <td>716.065784</td>\n",
       "      <td>Man</td>\n",
       "    </tr>\n",
       "    <tr>\n",
       "      <th>18</th>\n",
       "      <td>475.352369</td>\n",
       "      <td>490.649377</td>\n",
       "      <td>442.433261</td>\n",
       "      <td>446.404701</td>\n",
       "      <td>688.692299</td>\n",
       "      <td>Man</td>\n",
       "    </tr>\n",
       "  </tbody>\n",
       "</table>\n",
       "</div>"
      ],
      "text/plain": [
       "     Languages  Humanities  Natural Sciences  Mathematics       Essay Gender\n",
       "0   585.669300  686.512178        390.482473   452.281333  546.371706    Man\n",
       "2   622.732384  495.510719        443.183580   669.683401  684.515750    Man\n",
       "3   350.164605  602.041588        413.979810   676.608952  671.237114    Man\n",
       "4   384.093657  489.249140        609.758123   520.426698  744.375048    Man\n",
       "5   616.043360  502.007005        497.777935   615.902547  507.365147    Man\n",
       "6   511.897593  479.197660        469.023899   441.139103  541.979136  Woman\n",
       "7   377.439818  663.489624        556.239031   517.215575  635.424649  Woman\n",
       "11  617.509514  685.004513        450.104243   556.460006  758.966704  Woman\n",
       "14  447.988956  525.059975        351.735507   658.211529  716.065784    Man\n",
       "18  475.352369  490.649377        442.433261   446.404701  688.692299    Man"
      ]
     },
     "execution_count": 3,
     "metadata": {},
     "output_type": "execute_result"
    }
   ],
   "source": [
    "df_enem_2023.head(10)"
   ]
  },
  {
   "cell_type": "code",
   "execution_count": 4,
   "metadata": {},
   "outputs": [],
   "source": [
    "def breadth(column):\n",
    "    return df_enem_2023[column].max() - df_enem_2023[column].min()\n",
    "\n",
    "def basic_statistics(column):\n",
    "    average = df_enem_2023[column].mean()\n",
    "    median = df_enem_2023[column].median()\n",
    "    return average, median\n",
    "\n",
    "def calculate_final_note(df):\n",
    "    weights = {'Essay': 2, 'Mathematics': 4, 'Languages': 2, 'Humanities': 1, 'Natural Sciences': 1}\n",
    "    return sum(df[col] * weight for col, weight in weights.items()) / sum(weights.values())"
   ]
  },
  {
   "cell_type": "code",
   "execution_count": null,
   "metadata": {},
   "outputs": [
    {
     "name": "stdout",
     "output_type": "stream",
     "text": [
      "Breadth of disciplines:\n",
      "- Essay: 641.00\n",
      "- Mathematics: 488.08\n",
      "- Languages: 517.46\n",
      "- Humanities: 474.02\n",
      "- Natural Sciences: 487.60\n",
      "--------------------------------------------------\n",
      "The subject with the breadth grade range is: Essay\n"
     ]
    }
   ],
   "source": [
    "# Question 1: Breadth\n",
    "\n",
    "disciplines = ['Essay', 'Mathematics', 'Languages', 'Humanities', 'Natural Sciences']\n",
    "breadths = {discipline: breadth(discipline) for discipline in disciplines}\n",
    "\n",
    "print(\"Breadth of disciplines:\")\n",
    "for discipline, breadth in breadths.items():\n",
    "    print(f\"- {discipline}: {breadth:.2f}\") \n",
    "\n",
    "max_breadth = max(breadths, key=breadths.get)\n",
    "\n",
    "print(\"-\" * 50)\n",
    "\n",
    "print(f\"The subject with the breadth grade range is: {max_breadth}\")"
   ]
  },
  {
   "cell_type": "code",
   "execution_count": null,
   "metadata": {},
   "outputs": [
    {
     "name": "stdout",
     "output_type": "stream",
     "text": [
      "Average and median by subject:\n",
      "- Essay: Average = 641.19, Median = 639.60\n",
      "- Mathematics: Average = 537.17, Median = 532.96\n",
      "- Languages: Average = 517.47, Median = 517.13\n",
      "- Humanities: Average = 528.35, Median = 528.50\n",
      "- Natural Sciences: Average = 502.14, Median = 502.94\n"
     ]
    }
   ],
   "source": [
    "# Question 2: Average and Median\n",
    "\n",
    "statistics = {discipline: basic_statistics(discipline) for discipline in disciplines}\n",
    "\n",
    "print(\"Average and median by subject:\")\n",
    "for discipline, stats in statistics.items():\n",
    "    average = stats[0]\n",
    "    median = stats[1]\n",
    "    print(f\"- {discipline}: Average = {average:.2f}, Median = {median:.2f}\") "
   ]
  },
  {
   "cell_type": "code",
   "execution_count": null,
   "metadata": {},
   "outputs": [
    {
     "name": "stdout",
     "output_type": "stream",
     "text": [
      "Average and Standard Deviation of the top 500:\n",
      "- Average: 557.29\n",
      "- Standard Deviation: 40.44\n"
     ]
    }
   ],
   "source": [
    "# Question 3: Top 500 in Computer Science\n",
    "\n",
    "def calculate_final_note(df):\n",
    "    weights = {\n",
    "        'Essay': 2,\n",
    "        'Mathematics': 4,\n",
    "        'Languages': 2,\n",
    "        'Humanities': 1,\n",
    "        'Natural Sciences': 1\n",
    "    }\n",
    "    \n",
    "    weighted_sum = (\n",
    "        df['Essay'] * weights['Essay'] +\n",
    "        df['Mathematics'] * weights['Mathematics'] +\n",
    "        df['Languages'] * weights['Languages'] +\n",
    "        df['Humanities'] * weights['Humanities'] +\n",
    "        df['Natural Sciences'] * weights['Natural Sciences']\n",
    "    )\n",
    "    \n",
    "    total_weights = sum(weights.values())\n",
    "    return weighted_sum / total_weights\n",
    "\n",
    "df_enem_2023['Final Note'] = calculate_final_note(df_enem_2023)\n",
    "top_500 = df_enem_2023.nlargest(500, 'Final Note')\n",
    "average_500 = top_500['Final Note'].mean()\n",
    "deviation_500 = top_500['Final Note'].std()\n",
    "\n",
    "print(\"Average and Standard Deviation of the top 500:\")\n",
    "print(f\"- Average: {average_500:.2f}\")\n",
    "print(f\"- Standard Deviation: {deviation_500:.2f}\")"
   ]
  },
  {
   "cell_type": "code",
   "execution_count": null,
   "metadata": {},
   "outputs": [
    {
     "name": "stdout",
     "output_type": "stream",
     "text": [
      "Average and variance of the top 40:\n",
      "- Average: 636.68\n",
      "- Variance: 295.77\n"
     ]
    }
   ],
   "source": [
    "# Question 4: Top 40 in Computer Science\n",
    "\n",
    "top_40 = top_500.nlargest(40, 'Final Note')\n",
    "average_40 = top_40['Final Note'].mean()\n",
    "variance_40 = top_40['Final Note'].var()\n",
    "\n",
    "print(\"Average and variance of the top 40:\")\n",
    "print(f\"- Average: {average_40:.2f}\")\n",
    "print(f\"- Variance: {variance_40:.2f}\")"
   ]
  },
  {
   "cell_type": "code",
   "execution_count": null,
   "metadata": {},
   "outputs": [
    {
     "name": "stdout",
     "output_type": "stream",
     "text": [
      "Q3 Mathematics: 591.34\n",
      "Q3 Languages: 572.65\n"
     ]
    }
   ],
   "source": [
    "# Question 5: Third quartile (Q3)\n",
    "\n",
    "Q3_matematica = np.percentile(df_enem_2023['Mathematics'].dropna(), 75)\n",
    "Q3_linguagens = np.percentile(df_enem_2023['Languages'].dropna(), 75)\n",
    "\n",
    "print(f\"Q3 Mathematics: {Q3_matematica:.2f}\")\n",
    "print(f\"Q3 Languages: {Q3_linguagens:.2f}\")"
   ]
  }
 ],
 "metadata": {
  "language_info": {
   "name": "python"
  }
 },
 "nbformat": 4,
 "nbformat_minor": 2
}
